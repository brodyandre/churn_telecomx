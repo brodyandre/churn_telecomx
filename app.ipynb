{
  "nbformat": 4,
  "nbformat_minor": 0,
  "metadata": {
    "colab": {
      "provenance": [],
      "authorship_tag": "ABX9TyOATnQoHg2z5zZfsq9QMG+z",
      "include_colab_link": true
    },
    "kernelspec": {
      "name": "python3",
      "display_name": "Python 3"
    },
    "language_info": {
      "name": "python"
    }
  },
  "cells": [
    {
      "cell_type": "markdown",
      "metadata": {
        "id": "view-in-github",
        "colab_type": "text"
      },
      "source": [
        "<a href=\"https://colab.research.google.com/github/brodyandre/churn_telecomx/blob/main/app.ipynb\" target=\"_parent\"><img src=\"https://colab.research.google.com/assets/colab-badge.svg\" alt=\"Open In Colab\"/></a>"
      ]
    },
    {
      "cell_type": "code",
      "execution_count": null,
      "metadata": {
        "id": "rtHIvNPdX8S8"
      },
      "outputs": [],
      "source": [
        "import streamlit as st\n",
        "import pandas as pd\n",
        "\n",
        "st.set_page_config(page_title=\"Dashboard Churn - Big Insights\", layout=\"wide\")\n",
        "\n",
        "@st.cache_data\n",
        "def load_data():\n",
        "    df = pd.read_csv('df_expandido.csv')\n",
        "    return df\n",
        "\n",
        "df = load_data()\n",
        "\n",
        "st.title(\"Dashboard de Churn - Big Insights\")\n",
        "\n",
        "# --- Sidebar para filtros com sliders ---\n",
        "st.sidebar.header(\"Filtros\")\n",
        "\n",
        "# Filtro tenure (tempo de contrato)\n",
        "tenure_min, tenure_max = int(df['tenure'].min()), int(df['tenure'].max())\n",
        "tenure_range = st.sidebar.slider(\"Tempo de contrato (meses)\", tenure_min, tenure_max, (tenure_min, tenure_max))\n",
        "\n",
        "# Filtro valor mensal\n",
        "valor_mensal_min, valor_mensal_max = float(df['valor_mensal'].min()), float(df['valor_mensal'].max())\n",
        "valor_mensal_range = st.sidebar.slider(\"Valor Mensal (R$)\", valor_mensal_min, valor_mensal_max, (valor_mensal_min, valor_mensal_max))\n",
        "\n",
        "# Filtro SeniorCitizen (checkbox)\n",
        "senior = st.sidebar.checkbox(\"Mostrar somente clientes SeniorCitizen\", value=False)\n",
        "\n",
        "# Aplicar filtros no dataframe\n",
        "df_filtered = df[\n",
        "    (df['tenure'] >= tenure_range[0]) &\n",
        "    (df['tenure'] <= tenure_range[1]) &\n",
        "    (df['valor_mensal'] >= valor_mensal_range[0]) &\n",
        "    (df['valor_mensal'] <= valor_mensal_range[1])\n",
        "]\n",
        "\n",
        "if senior:\n",
        "    df_filtered = df_filtered[df_filtered['SeniorCitizen'] == 1]\n",
        "\n",
        "st.write(f\"### Dados filtrados ({len(df_filtered)} registros)\")\n",
        "\n",
        "st.dataframe(df_filtered)\n",
        "\n",
        "# Estatísticas básicas\n",
        "st.write(\"### Estatísticas rápidas\")\n",
        "\n",
        "col1, col2, col3 = st.columns(3)\n",
        "\n",
        "with col1:\n",
        "    st.metric(\"Clientes Totais\", len(df_filtered))\n",
        "\n",
        "with col2:\n",
        "    churn_count = df_filtered[df_filtered['Churn'] == 'Yes'].shape[0]\n",
        "    st.metric(\"Clientes que Cancelaram (Churn)\", churn_count)\n",
        "\n",
        "with col3:\n",
        "    churn_rate = 0 if len(df_filtered) == 0 else (churn_count / len(df_filtered)) * 100\n",
        "    st.metric(\"Taxa de Churn (%)\", f\"{churn_rate:.2f}%\")\n",
        "\n"
      ]
    }
  ]
}